{
 "cells": [
  {
   "cell_type": "markdown",
   "metadata": {},
   "source": [
    "### Read the data set"
   ]
  },
  {
   "cell_type": "code",
   "execution_count": 2,
   "metadata": {},
   "outputs": [],
   "source": [
    "#imports\n",
    "import pandas as pd\n",
    "import numpy as np\n",
    "import matplotlib.pyplot as plt\n",
    "import seaborn as sns\n",
    "from frozenlist import FrozenList\n"
   ]
  },
  {
   "cell_type": "code",
   "execution_count": 3,
   "metadata": {},
   "outputs": [
    {
     "name": "stdout",
     "output_type": "stream",
     "text": [
      "         id  log_price property_type        room_type  \\\n",
      "0   6901257   5.010635     Apartment  Entire home/apt   \n",
      "1   6304928   5.129899     Apartment  Entire home/apt   \n",
      "2   7919400   4.976734     Apartment  Entire home/apt   \n",
      "3  13418779   6.620073         House  Entire home/apt   \n",
      "4   3808709   4.744932     Apartment  Entire home/apt   \n",
      "\n",
      "                                           amenities  accommodates  bathrooms  \\\n",
      "0  {\"Wireless Internet\",\"Air conditioning\",Kitche...             3        1.0   \n",
      "1  {\"Wireless Internet\",\"Air conditioning\",Kitche...             7        1.0   \n",
      "2  {TV,\"Cable TV\",\"Wireless Internet\",\"Air condit...             5        1.0   \n",
      "3  {TV,\"Cable TV\",Internet,\"Wireless Internet\",Ki...             4        1.0   \n",
      "4  {TV,Internet,\"Wireless Internet\",\"Air conditio...             2        1.0   \n",
      "\n",
      "   bed_type cancellation_policy  cleaning_fee  ...   latitude   longitude  \\\n",
      "0  Real Bed              strict          True  ...  40.696524  -73.991617   \n",
      "1  Real Bed              strict          True  ...  40.766115  -73.989040   \n",
      "2  Real Bed            moderate          True  ...  40.808110  -73.943756   \n",
      "3  Real Bed            flexible          True  ...  37.772004 -122.431619   \n",
      "4  Real Bed            moderate          True  ...  38.925627  -77.034596   \n",
      "\n",
      "                                       name     neighbourhood  \\\n",
      "0            Beautiful brownstone 1-bedroom  Brooklyn Heights   \n",
      "1  Superb 3BR Apt Located Near Times Square    Hell's Kitchen   \n",
      "2                          The Garden Oasis            Harlem   \n",
      "3        Beautiful Flat in the Heart of SF!      Lower Haight   \n",
      "4                Great studio in midtown DC  Columbia Heights   \n",
      "\n",
      "  number_of_reviews review_scores_rating  \\\n",
      "0                 2                100.0   \n",
      "1                 6                 93.0   \n",
      "2                10                 92.0   \n",
      "3                 0                  NaN   \n",
      "4                 4                 40.0   \n",
      "\n",
      "                                       thumbnail_url  zipcode bedrooms  beds  \n",
      "0  https://a0.muscache.com/im/pictures/6d7cbbf7-c...    11201      1.0   1.0  \n",
      "1  https://a0.muscache.com/im/pictures/348a55fe-4...    10019      3.0   3.0  \n",
      "2  https://a0.muscache.com/im/pictures/6fae5362-9...    10027      1.0   3.0  \n",
      "3  https://a0.muscache.com/im/pictures/72208dad-9...  94117.0      2.0   2.0  \n",
      "4                                                NaN    20009      0.0   1.0  \n",
      "\n",
      "[5 rows x 29 columns]\n",
      "             id  log_price property_type        room_type  \\\n",
      "74106  14549287   4.605170     Apartment     Private room   \n",
      "74107  13281809   5.043425     Apartment  Entire home/apt   \n",
      "74108  18688039   5.220356     Apartment  Entire home/apt   \n",
      "74109  17045948   5.273000     Apartment  Entire home/apt   \n",
      "74110   3534845   4.852030          Boat  Entire home/apt   \n",
      "\n",
      "                                               amenities  accommodates  \\\n",
      "74106                                                 {}             1   \n",
      "74107  {TV,\"Cable TV\",Internet,\"Wireless Internet\",Ki...             4   \n",
      "74108  {TV,Internet,\"Wireless Internet\",\"Air conditio...             5   \n",
      "74109  {TV,\"Wireless Internet\",\"Air conditioning\",Kit...             2   \n",
      "74110  {TV,Internet,\"Wireless Internet\",Kitchen,\"Free...             4   \n",
      "\n",
      "       bathrooms  bed_type cancellation_policy  cleaning_fee  ...   latitude  \\\n",
      "74106        1.0  Real Bed            flexible         False  ...  40.709025   \n",
      "74107        2.0  Real Bed            moderate          True  ...  33.871549   \n",
      "74108        1.0  Real Bed            moderate          True  ...  40.706749   \n",
      "74109        1.0  Real Bed              strict          True  ...  40.738535   \n",
      "74110        1.0  Real Bed            moderate         False  ...  33.761096   \n",
      "\n",
      "        longitude                                        name  neighbourhood  \\\n",
      "74106  -73.939405                           one room bushwick   Williamsburg   \n",
      "74107 -118.396053                Spacious Hermosa 2 BR on PCH  Hermosa Beach   \n",
      "74108  -73.942377  Modern 2 Bedroom Apartment in Williamsburg   Williamsburg   \n",
      "74109  -74.000157        Designer's Apartment in HEART of NYC   West Village   \n",
      "74110 -118.192409              Cozy Boat at Shoreline Village     Long Beach   \n",
      "\n",
      "      number_of_reviews review_scores_rating  \\\n",
      "74106                 0                  NaN   \n",
      "74107                16                 93.0   \n",
      "74108                43                 94.0   \n",
      "74109                 0                  NaN   \n",
      "74110               205                 96.0   \n",
      "\n",
      "                                           thumbnail_url  zipcode bedrooms  \\\n",
      "74106  https://a0.muscache.com/im/pictures/55162426/6...  11206.0      1.0   \n",
      "74107  https://a0.muscache.com/im/pictures/2b86560b-a...    90254      2.0   \n",
      "74108  https://a0.muscache.com/im/pictures/7fbe448c-5...  11206.0      2.0   \n",
      "74109  https://a0.muscache.com/im/pictures/b3971b63-0...    10011      0.0   \n",
      "74110  https://a0.muscache.com/im/pictures/22968537/d...    90802      1.0   \n",
      "\n",
      "       beds  \n",
      "74106   1.0  \n",
      "74107   4.0  \n",
      "74108   2.0  \n",
      "74109   2.0  \n",
      "74110   2.0  \n",
      "\n",
      "[5 rows x 29 columns]\n",
      "(74111, 29)\n",
      "Index(['id', 'log_price', 'property_type', 'room_type', 'amenities',\n",
      "       'accommodates', 'bathrooms', 'bed_type', 'cancellation_policy',\n",
      "       'cleaning_fee', 'city', 'description', 'first_review',\n",
      "       'host_has_profile_pic', 'host_identity_verified', 'host_response_rate',\n",
      "       'host_since', 'instant_bookable', 'last_review', 'latitude',\n",
      "       'longitude', 'name', 'neighbourhood', 'number_of_reviews',\n",
      "       'review_scores_rating', 'thumbnail_url', 'zipcode', 'bedrooms', 'beds'],\n",
      "      dtype='object')\n",
      "id                          int64\n",
      "log_price                 float64\n",
      "property_type              object\n",
      "room_type                  object\n",
      "amenities                  object\n",
      "accommodates                int64\n",
      "bathrooms                 float64\n",
      "bed_type                   object\n",
      "cancellation_policy        object\n",
      "cleaning_fee                 bool\n",
      "city                       object\n",
      "description                object\n",
      "first_review               object\n",
      "host_has_profile_pic       object\n",
      "host_identity_verified     object\n",
      "host_response_rate         object\n",
      "host_since                 object\n",
      "instant_bookable           object\n",
      "last_review                object\n",
      "latitude                  float64\n",
      "longitude                 float64\n",
      "name                       object\n",
      "neighbourhood              object\n",
      "number_of_reviews           int64\n",
      "review_scores_rating      float64\n",
      "thumbnail_url              object\n",
      "zipcode                    object\n",
      "bedrooms                  float64\n",
      "beds                      float64\n",
      "dtype: object\n",
      "<class 'pandas.core.frame.DataFrame'>\n",
      "RangeIndex: 74111 entries, 0 to 74110\n",
      "Data columns (total 29 columns):\n",
      " #   Column                  Non-Null Count  Dtype  \n",
      "---  ------                  --------------  -----  \n",
      " 0   id                      74111 non-null  int64  \n",
      " 1   log_price               74111 non-null  float64\n",
      " 2   property_type           74111 non-null  object \n",
      " 3   room_type               74111 non-null  object \n",
      " 4   amenities               74111 non-null  object \n",
      " 5   accommodates            74111 non-null  int64  \n",
      " 6   bathrooms               73911 non-null  float64\n",
      " 7   bed_type                74111 non-null  object \n",
      " 8   cancellation_policy     74111 non-null  object \n",
      " 9   cleaning_fee            74111 non-null  bool   \n",
      " 10  city                    74111 non-null  object \n",
      " 11  description             74111 non-null  object \n",
      " 12  first_review            58247 non-null  object \n",
      " 13  host_has_profile_pic    73923 non-null  object \n",
      " 14  host_identity_verified  73923 non-null  object \n",
      " 15  host_response_rate      55812 non-null  object \n",
      " 16  host_since              73923 non-null  object \n",
      " 17  instant_bookable        74111 non-null  object \n",
      " 18  last_review             58284 non-null  object \n",
      " 19  latitude                74111 non-null  float64\n",
      " 20  longitude               74111 non-null  float64\n",
      " 21  name                    74111 non-null  object \n",
      " 22  neighbourhood           67239 non-null  object \n",
      " 23  number_of_reviews       74111 non-null  int64  \n",
      " 24  review_scores_rating    57389 non-null  float64\n",
      " 25  thumbnail_url           65895 non-null  object \n",
      " 26  zipcode                 73145 non-null  object \n",
      " 27  bedrooms                74020 non-null  float64\n",
      " 28  beds                    73980 non-null  float64\n",
      "dtypes: bool(1), float64(7), int64(3), object(18)\n",
      "memory usage: 15.9+ MB\n",
      "None\n",
      "                 id     log_price  accommodates     bathrooms      latitude  \\\n",
      "count  7.411100e+04  74111.000000  74111.000000  73911.000000  74111.000000   \n",
      "mean   1.126662e+07      4.782069      3.155146      1.235263     38.445958   \n",
      "std    6.081735e+06      0.717394      2.153589      0.582044      3.080167   \n",
      "min    3.440000e+02      0.000000      1.000000      0.000000     33.338905   \n",
      "25%    6.261964e+06      4.317488      2.000000      1.000000     34.127908   \n",
      "50%    1.225415e+07      4.709530      2.000000      1.000000     40.662138   \n",
      "75%    1.640226e+07      5.220356      4.000000      1.000000     40.746096   \n",
      "max    2.123090e+07      7.600402     16.000000      8.000000     42.390437   \n",
      "\n",
      "          longitude  number_of_reviews  review_scores_rating      bedrooms  \\\n",
      "count  74111.000000       74111.000000          57389.000000  74020.000000   \n",
      "mean     -92.397525          20.900568             94.067365      1.265793   \n",
      "std       21.705322          37.828641              7.836556      0.852143   \n",
      "min     -122.511500           0.000000             20.000000      0.000000   \n",
      "25%     -118.342374           1.000000             92.000000      1.000000   \n",
      "50%      -76.996965           6.000000             96.000000      1.000000   \n",
      "75%      -73.954660          23.000000            100.000000      1.000000   \n",
      "max      -70.985047         605.000000            100.000000     10.000000   \n",
      "\n",
      "               beds  \n",
      "count  73980.000000  \n",
      "mean       1.710868  \n",
      "std        1.254142  \n",
      "min        0.000000  \n",
      "25%        1.000000  \n",
      "50%        1.000000  \n",
      "75%        2.000000  \n",
      "max       18.000000  \n"
     ]
    }
   ],
   "source": [
    "#read the data set\n",
    "\n",
    "df = pd.read_csv('Dataset/Airbnb_Data.csv')\n",
    "\n",
    "#display the first 5 rows of the data set\n",
    "print(df.head())\n",
    "\n",
    "#display the last 5 rows of the data set\n",
    "print(df.tail())\n",
    "\n",
    "#display the shape of the data set\n",
    "print(df.shape)\n",
    "\n",
    "#display the columns of the data set\n",
    "print(df.columns)\n",
    "\n",
    "#display the data types of the columns\n",
    "print(df.dtypes)\n",
    "\n",
    "#display the info of the data set\n",
    "print(df.info())\n",
    "\n",
    "#display the summary statistics of the data set\n",
    "print(df.describe())\n",
    "\n"
   ]
  },
  {
   "cell_type": "code",
   "execution_count": 4,
   "metadata": {},
   "outputs": [
    {
     "name": "stdout",
     "output_type": "stream",
     "text": [
      "         id  log_price property_type        room_type  \\\n",
      "0   6901257   5.010635     Apartment  Entire home/apt   \n",
      "1   6304928   5.129899     Apartment  Entire home/apt   \n",
      "2   7919400   4.976734     Apartment  Entire home/apt   \n",
      "3  13418779   6.620073         House  Entire home/apt   \n",
      "4   3808709   4.744932     Apartment  Entire home/apt   \n",
      "\n",
      "                                           amenities  accommodates  bathrooms  \\\n",
      "0  [Wireless Internet, Air conditioning, Kitchen,...             3        1.0   \n",
      "1  [Wireless Internet, Air conditioning, Kitchen,...             7        1.0   \n",
      "2  [TV, Cable TV, Wireless Internet, Air conditio...             5        1.0   \n",
      "3  [TV, Cable TV, Internet, Wireless Internet, Ki...             4        1.0   \n",
      "4  [TV, Internet, Wireless Internet, Air conditio...             2        1.0   \n",
      "\n",
      "   bed_type cancellation_policy  cleaning_fee  ...   latitude   longitude  \\\n",
      "0  Real Bed              strict          True  ...  40.696524  -73.991617   \n",
      "1  Real Bed              strict          True  ...  40.766115  -73.989040   \n",
      "2  Real Bed            moderate          True  ...  40.808110  -73.943756   \n",
      "3  Real Bed            flexible          True  ...  37.772004 -122.431619   \n",
      "4  Real Bed            moderate          True  ...  38.925627  -77.034596   \n",
      "\n",
      "                                       name     neighbourhood  \\\n",
      "0            Beautiful brownstone 1-bedroom  Brooklyn Heights   \n",
      "1  Superb 3BR Apt Located Near Times Square    Hell's Kitchen   \n",
      "2                          The Garden Oasis            Harlem   \n",
      "3        Beautiful Flat in the Heart of SF!      Lower Haight   \n",
      "4                Great studio in midtown DC  Columbia Heights   \n",
      "\n",
      "  number_of_reviews review_scores_rating  \\\n",
      "0                 2                100.0   \n",
      "1                 6                 93.0   \n",
      "2                10                 92.0   \n",
      "3                 0                  NaN   \n",
      "4                 4                 40.0   \n",
      "\n",
      "                                       thumbnail_url  zipcode bedrooms  beds  \n",
      "0  https://a0.muscache.com/im/pictures/6d7cbbf7-c...    11201      1.0   1.0  \n",
      "1  https://a0.muscache.com/im/pictures/348a55fe-4...    10019      3.0   3.0  \n",
      "2  https://a0.muscache.com/im/pictures/6fae5362-9...    10027      1.0   3.0  \n",
      "3  https://a0.muscache.com/im/pictures/72208dad-9...  94117.0      2.0   2.0  \n",
      "4                                                NaN    20009      0.0   1.0  \n",
      "\n",
      "[5 rows x 29 columns]\n"
     ]
    }
   ],
   "source": [
    "# for each row, we need to put the ammenities in a list \n",
    "\n",
    "df['amenities'] = df['amenities'].apply(lambda x: x.replace('{','').replace('}','').replace('\"','').split(','))\n",
    "\n",
    "#display the first 5 rows of the data set\n",
    "print(df.head())\n",
    "\n",
    "\n"
   ]
  },
  {
   "cell_type": "code",
   "execution_count": 5,
   "metadata": {},
   "outputs": [
    {
     "name": "stdout",
     "output_type": "stream",
     "text": [
      "         id  price property_type        room_type  \\\n",
      "0   6901257  150.0     Apartment  Entire home/apt   \n",
      "1   6304928  169.0     Apartment  Entire home/apt   \n",
      "2   7919400  145.0     Apartment  Entire home/apt   \n",
      "3  13418779  750.0         House  Entire home/apt   \n",
      "4   3808709  115.0     Apartment  Entire home/apt   \n",
      "\n",
      "                                           amenities  accommodates  bathrooms  \\\n",
      "0  [Wireless Internet, Air conditioning, Kitchen,...             3        1.0   \n",
      "1  [Wireless Internet, Air conditioning, Kitchen,...             7        1.0   \n",
      "2  [TV, Cable TV, Wireless Internet, Air conditio...             5        1.0   \n",
      "3  [TV, Cable TV, Internet, Wireless Internet, Ki...             4        1.0   \n",
      "4  [TV, Internet, Wireless Internet, Air conditio...             2        1.0   \n",
      "\n",
      "   bed_type cancellation_policy  cleaning_fee  ...   latitude   longitude  \\\n",
      "0  Real Bed              strict          True  ...  40.696524  -73.991617   \n",
      "1  Real Bed              strict          True  ...  40.766115  -73.989040   \n",
      "2  Real Bed            moderate          True  ...  40.808110  -73.943756   \n",
      "3  Real Bed            flexible          True  ...  37.772004 -122.431619   \n",
      "4  Real Bed            moderate          True  ...  38.925627  -77.034596   \n",
      "\n",
      "                                       name     neighbourhood  \\\n",
      "0            Beautiful brownstone 1-bedroom  Brooklyn Heights   \n",
      "1  Superb 3BR Apt Located Near Times Square    Hell's Kitchen   \n",
      "2                          The Garden Oasis            Harlem   \n",
      "3        Beautiful Flat in the Heart of SF!      Lower Haight   \n",
      "4                Great studio in midtown DC  Columbia Heights   \n",
      "\n",
      "  number_of_reviews review_scores_rating  \\\n",
      "0                 2                100.0   \n",
      "1                 6                 93.0   \n",
      "2                10                 92.0   \n",
      "3                 0                  NaN   \n",
      "4                 4                 40.0   \n",
      "\n",
      "                                       thumbnail_url  zipcode bedrooms  beds  \n",
      "0  https://a0.muscache.com/im/pictures/6d7cbbf7-c...    11201      1.0   1.0  \n",
      "1  https://a0.muscache.com/im/pictures/348a55fe-4...    10019      3.0   3.0  \n",
      "2  https://a0.muscache.com/im/pictures/6fae5362-9...    10027      1.0   3.0  \n",
      "3  https://a0.muscache.com/im/pictures/72208dad-9...  94117.0      2.0   2.0  \n",
      "4                                                NaN    20009      0.0   1.0  \n",
      "\n",
      "[5 rows x 29 columns]\n"
     ]
    }
   ],
   "source": [
    "#replace the log price column with the price column\n",
    "\n",
    "df['log_price'] = df['log_price'].apply(lambda x: np.exp(x))\n",
    "\n",
    "#rename the log price column to price\n",
    "\n",
    "df.rename(columns={'log_price':'price'}, inplace=True)\n",
    "\n",
    "#display the first 5 rows of the data set\n",
    "print(df.head())\n"
   ]
  },
  {
   "cell_type": "code",
   "execution_count": 6,
   "metadata": {},
   "outputs": [
    {
     "name": "stdout",
     "output_type": "stream",
     "text": [
      "{'', 'Table corner guards', 'Wide clearance to shower and toilet', 'Oven', 'Fixed grab bars for shower & toilet', 'Outlet covers', 'Dishwasher', 'Accessible-height bed', 'Beach essentials', 'Pocket wifi', 'Changing table', 'Luggage dropoff allowed', 'BBQ grill', 'Private entrance', 'Family/kid friendly', 'Refrigerator', 'Children’s books and toys', 'Long term stays allowed', 'Bathtub with shower chair', 'Host greets you', 'Game console', 'Dog(s)', ' smooth pathway to front door', 'Fire extinguisher', 'Cooking basics', 'Ground floor access', 'Laptop friendly workspace', 'Extra pillows and blankets', 'Wheelchair accessible', 'Dryer', 'Heating', 'Free parking on premises', 'Patio or balcony', 'Other pet(s)', 'Carbon monoxide detector', 'Indoor fireplace', 'Wide hallway clearance', 'Washer', 'Cat(s)', 'Garden or backyard', 'Keypad', 'Wide doorway', 'Other', 'Fireplace guards', 'Breakfast', 'Smartlock', 'Bath towel', 'Air purifier', 'High chair', 'Hot water kettle', 'TV', 'Doorman', 'Pets live on this property', 'translation missing: en.hosting_amenity_50', 'Wide clearance to shower & toilet', 'Waterfront', 'Firm mattress', 'Path to entrance lit at night', 'Elevator in building', 'Crib', 'Buzzer/wireless intercom', 'Smoke detector', 'Beachfront', 'Grab-rails for shower and toilet', 'Gym', 'Baby bath', 'Air conditioning', 'Handheld shower head', 'Hangers', 'Kitchen', 'Room-darkening shades', 'Hand soap', 'Hot water', 'Stove', 'Ski in/Ski out', 'Stair gates', 'Wireless Internet', 'Free parking on street', 'Essentials', 'Smart lock', 'Private bathroom', 'Lake access', 'Bathtub', 'Suitable for events', 'Step-free access', 'Children’s dinnerware', 'Washer / Dryer', 'EV charger', 'Window guards', 'Well-lit path to entrance', 'Hot tub', 'Elevator', 'Pack ’n Play/travel crib', 'Self Check-In', 'Single level home', 'Bed linens', 'Dishes and silverware', 'Pets allowed', 'Hair dryer', 'Coffee maker', 'Disabled parking spot', 'translation missing: en.hosting_amenity_49', 'Firm matress', 'Paid parking off premises', 'Smoking allowed', 'Internet', 'Microwave', 'Flat smooth pathway to front door', 'Pool', 'Baby monitor', 'Toilet paper', 'Shampoo', 'Cleaning before checkout', 'Iron', 'Lock on bedroom door', 'Private living room', 'Babysitter recommendations', 'Safety card', 'Doorman Entry', 'Wide clearance to bed', 'Body soap', 'Roll-in shower with chair', 'Lockbox', 'Wide entryway', 'Accessible-height toilet', 'First aid kit', 'Hand or paper towel', 'Ethernet connection', 'Cable TV', 'Flat', '24-hour check-in'}\n"
     ]
    }
   ],
   "source": [
    "# get a set of all unique amenities\n",
    "amenities = set()\n",
    "for index, row in df.iterrows():\n",
    "    for amenity in row['amenities']:\n",
    "        amenities.add(amenity)\n",
    "\n",
    "#display the unique amenities\n",
    "print(amenities)\n"
   ]
  },
  {
   "cell_type": "code",
   "execution_count": 7,
   "metadata": {},
   "outputs": [
    {
     "name": "stdout",
     "output_type": "stream",
     "text": [
      "130 amenities length\n"
     ]
    }
   ],
   "source": [
    "amenities.remove('')\n",
    "print(len(amenities), 'amenities length')"
   ]
  },
  {
   "cell_type": "code",
   "execution_count": 8,
   "metadata": {},
   "outputs": [],
   "source": [
    "#get unique intger value of the prices in the data set\n",
    "\n",
    "prices = set()\n",
    "for index, row in df.iterrows():\n",
    "    prices.add(int(row['price']))\n",
    "\n",
    "#display the unique prices\n",
    "# 6901257  150.0     Apartment  Entire home/apt   \n",
    "# 1   6304928  169.0     Apartment  Entire home/apt   \n",
    "# 2   7919400  145.0     Apartment  Entire home/apt   \n",
    "# 3  13418779  750.0         House  Entire home/apt   \n",
    "# 4   3808709  115.0     Apartment  Entire home/apt \n"
   ]
  },
  {
   "cell_type": "code",
   "execution_count": 9,
   "metadata": {},
   "outputs": [
    {
     "name": "stdout",
     "output_type": "stream",
     "text": [
      "{1, 5, 10, 11, 12, 13, 14, 15, 17, 18, 20, 21, 22, 23, 24, 25, 26, 27, 28, 30, 31, 32, 34, 36, 37, 38, 39, 41, 42, 44, 45, 46, 48, 50, 51, 52, 53, 54, 55, 56, 57, 59, 61, 62, 64, 65, 67, 68, 69, 70, 71, 72, 74, 76, 78, 79, 81, 82, 83, 85, 87, 88, 89, 90, 92, 94, 95, 97, 98, 100, 101, 102, 103, 104, 105, 106, 108, 109, 110, 111, 113, 114, 115, 117, 118, 119, 121, 122, 124, 125, 126, 127, 128, 129, 130, 132, 133, 135, 136, 137, 138, 139, 141, 142, 144, 146, 147, 149, 150, 151, 152, 154, 155, 156, 157, 158, 159, 160, 161, 163, 164, 166, 167, 169, 171, 172, 173, 175, 177, 179, 181, 182, 184, 186, 187, 188, 189, 190, 191, 192, 193, 194, 195, 197, 198, 199, 201, 202, 203, 205, 206, 207, 209, 211, 213, 214, 216, 217, 219, 220, 221, 223, 224, 225, 227, 228, 229, 230, 231, 232, 234, 235, 236, 237, 239, 241, 242, 244, 245, 247, 248, 249, 251, 252, 253, 254, 255, 257, 258, 260, 262, 263, 264, 266, 267, 268, 270, 271, 272, 273, 274, 275, 277, 278, 279, 280, 281, 282, 284, 285, 286, 288, 289, 291, 292, 293, 295, 297, 298, 299, 300, 302, 303, 304, 305, 306, 307, 309, 310, 312, 313, 314, 316, 318, 320, 321, 322, 323, 324, 325, 327, 329, 330, 331, 333, 334, 335, 337, 338, 339, 341, 342, 343, 345, 346, 347, 348, 349, 350, 352, 353, 355, 356, 357, 358, 360, 362, 363, 365, 366, 367, 368, 369, 370, 371, 373, 375, 376, 377, 378, 379, 380, 381, 382, 384, 385, 387, 388, 389, 390, 391, 392, 393, 394, 395, 396, 397, 398, 400, 402, 404, 405, 406, 407, 409, 410, 412, 413, 414, 417, 418, 420, 422, 424, 425, 426, 429, 432, 434, 435, 436, 438, 439, 441, 443, 444, 445, 447, 448, 449, 450, 451, 452, 454, 457, 459, 460, 461, 464, 466, 467, 468, 470, 471, 472, 474, 475, 477, 478, 480, 481, 484, 486, 488, 489, 490, 491, 493, 494, 495, 496, 497, 498, 499, 500, 501, 504, 505, 506, 507, 508, 509, 511, 512, 514, 515, 516, 517, 518, 519, 522, 524, 525, 527, 528, 530, 531, 534, 536, 538, 540, 541, 542, 543, 545, 547, 548, 549, 551, 554, 557, 558, 559, 560, 564, 565, 567, 568, 569, 570, 571, 575, 577, 579, 580, 581, 585, 588, 589, 591, 593, 595, 596, 597, 598, 600, 603, 610, 615, 617, 619, 624, 629, 630, 636, 640, 645, 648, 649, 650, 655, 656, 660, 661, 670, 672, 675, 679, 680, 681, 683, 685, 689, 691, 694, 695, 698, 699, 708, 710, 713, 715, 720, 725, 728, 734, 738, 739, 743, 745, 748, 749, 760, 762, 765, 766, 769, 773, 775, 776, 780, 782, 784, 787, 790, 795, 797, 799, 800, 814, 818, 819, 824, 825, 829, 832, 834, 837, 839, 840, 843, 845, 847, 849, 850, 851, 854, 858, 859, 861, 863, 864, 866, 869, 872, 874, 876, 877, 880, 882, 889, 890, 892, 895, 898, 900, 903, 910, 912, 914, 922, 924, 927, 928, 935, 940, 945, 949, 950, 965, 969, 970, 974, 975, 976, 979, 983, 984, 987, 989, 990, 993, 995, 996, 998, 999, 1000, 1001, 1010, 1015, 1019, 1025, 1039, 1049, 1057, 1074, 1080, 1089, 1094, 1095, 1098, 1100, 1111, 1119, 1125, 1126, 1149, 1168, 1176, 1179, 1190, 1194, 1200, 1222, 1223, 1224, 1239, 1249, 1270, 1273, 1274, 1285, 1294, 1299, 1300, 1348, 1350, 1367, 1370, 1394, 1399, 1427, 1447, 1450, 1460, 1494, 1497, 1499, 1550, 1569, 1595, 1599, 1609, 1635, 1649, 1664, 1666, 1675, 1700, 1705, 1707, 1730, 1732, 1749, 1794, 1798, 1800, 1820, 1849, 1875, 1888, 1895, 1900, 1938, 1950, 1975, 1980, 1989, 1995, 1998}\n",
      "640 prices length\n"
     ]
    }
   ],
   "source": [
    "print(prices)\n",
    "\n",
    "#get the number of unique prices\n",
    "print(len(prices), 'prices length')\n"
   ]
  },
  {
   "cell_type": "code",
   "execution_count": 10,
   "metadata": {},
   "outputs": [
    {
     "name": "stdout",
     "output_type": "stream",
     "text": [
      "40 prices length\n",
      "['0-50', ' 51-100', ' 101-150', ' 151-200', ' 201-250', ' 251-300', ' 301-350', ' 351-400', ' 401-450', ' 451-500', ' 501-550', ' 551-600', ' 601-650', ' 650-700', ' 701-750', ' 751-800', ' 801-850', ' 851-900', ' 901-950', ' 951-1000', ' 1001-1050', ' 1051-1100', ' 1101-1150', ' 1151-1200', ' 1201-1250', ' 1251-1300', ' 1301-1350', ' 1351-1400', ' 1401-1450', ' 1451-1500', ' 1501-1550', ' 1551-1600', ' 1601-1650', ' 1651-1700', ' 1701-1750', ' 1751-1800', ' 1801-1850', ' 1851-1900', ' 1901-1950', ' 1951-2000']\n"
     ]
    }
   ],
   "source": [
    "#we have 640 unique prices, with minimum price of 1 USD and maximum price of 2000USD\n",
    "#we can categorize the prices into 13 categories\n",
    "#0-50, 51-100, 101-150, 151-200, 201-250, 251-300, 301-350, 351-400, 401-450, 451-500, 501-550, 551-600, 601-650\n",
    "#650-700, 701-750, 751-800, 801-850, 851-900, 901-950, 951-1000, 1001-1050, 1051-1100, 1101-1150, 1151-1200, 1201-1250\n",
    "#1251-1300, 1301-1350, 1351-1400, 1401-1450, 1451-1500, 1501-1550, 1551-1600, 1601-1650, 1651-1700, 1701-1750, 1751-1800\n",
    "#1801-1850, 1851-1900, 1901-1950, 1951-2000\n",
    "\n",
    "stringo = '''0-50, 51-100, 101-150, 151-200, 201-250, 251-300, 301-350, 351-400, 401-450, 451-500, 501-550, 551-600, 601-650, 650-700, 701-750, 751-800, 801-850, 851-900, 901-950, 951-1000, 1001-1050, 1051-1100, 1101-1150, 1151-1200, 1201-1250, 1251-1300, 1301-1350, 1351-1400, 1401-1450, 1451-1500, 1501-1550, 1551-1600, 1601-1650, 1651-1700, 1701-1750, 1751-1800, 1801-1850, 1851-1900, 1901-1950, 1951-2000'''\n",
    "\n",
    "prices = stringo.split(',')\n",
    "print(len(prices), 'prices length')\n",
    "print(prices)\n"
   ]
  },
  {
   "cell_type": "code",
   "execution_count": 11,
   "metadata": {},
   "outputs": [
    {
     "name": "stdout",
     "output_type": "stream",
     "text": [
      "[(0, 50), (51, 100), (101, 150), (151, 200), (201, 250), (251, 300), (301, 350), (351, 400), (401, 450), (451, 500), (501, 550), (551, 600), (601, 650), (650, 700), (701, 750), (751, 800), (801, 850), (851, 900), (901, 950), (951, 1000), (1001, 1050), (1051, 1100), (1101, 1150), (1151, 1200), (1201, 1250), (1251, 1300), (1301, 1350), (1351, 1400), (1401, 1450), (1451, 1500), (1501, 1550), (1551, 1600), (1601, 1650), (1651, 1700), (1701, 1750), (1751, 1800), (1801, 1850), (1851, 1900), (1901, 1950), (1951, 2000)]\n"
     ]
    }
   ],
   "source": [
    "#change the prices to integers where the first value is the lower bound and the second value is the upper bound of the 40 categories\n",
    "prices = [(int(price.split('-')[0]), int(price.split('-')[1])) for price in prices]\n",
    "print(prices)\n",
    "\n"
   ]
  },
  {
   "cell_type": "code",
   "execution_count": 12,
   "metadata": {},
   "outputs": [
    {
     "name": "stdout",
     "output_type": "stream",
     "text": [
      "0         [2]\n",
      "1         [3]\n",
      "2         [2]\n",
      "3        [14]\n",
      "4         [2]\n",
      "         ... \n",
      "74106     [1]\n",
      "74107     [3]\n",
      "74108     [3]\n",
      "74109     [3]\n",
      "74110     [2]\n",
      "Name: price_category, Length: 74111, dtype: object\n"
     ]
    }
   ],
   "source": [
    "#add a new column to the data set called price_category\n",
    "#the price category will be the category of the price of the listing\n",
    "\n",
    "df['price_category'] = df['price'].apply(lambda x: [i for i in range(len(prices)) if prices[i][0] <= int(x) <= prices[i][1]])\n",
    "\n",
    "#display the first 5 rows of the data set\n",
    "print(df['price_category'])"
   ]
  },
  {
   "cell_type": "code",
   "execution_count": 15,
   "metadata": {},
   "outputs": [
    {
     "name": "stdout",
     "output_type": "stream",
     "text": [
      "{'SF', 'Boston', 'Chicago', 'LA', 'NYC', 'DC'}\n"
     ]
    },
    {
     "name": "stderr",
     "output_type": "stream",
     "text": [
      "c:\\ProgramData\\anaconda3\\Lib\\site-packages\\seaborn\\_oldcore.py:1498: FutureWarning: is_categorical_dtype is deprecated and will be removed in a future version. Use isinstance(dtype, CategoricalDtype) instead\n",
      "  if pd.api.types.is_categorical_dtype(vector):\n",
      "c:\\ProgramData\\anaconda3\\Lib\\site-packages\\seaborn\\_oldcore.py:1498: FutureWarning: is_categorical_dtype is deprecated and will be removed in a future version. Use isinstance(dtype, CategoricalDtype) instead\n",
      "  if pd.api.types.is_categorical_dtype(vector):\n",
      "c:\\ProgramData\\anaconda3\\Lib\\site-packages\\seaborn\\_oldcore.py:1498: FutureWarning: is_categorical_dtype is deprecated and will be removed in a future version. Use isinstance(dtype, CategoricalDtype) instead\n",
      "  if pd.api.types.is_categorical_dtype(vector):\n"
     ]
    },
    {
     "data": {
      "image/png": "[encoded data removed]",
      "text/plain": [
       "<Figure size 2000x1000 with 1 Axes>"
      ]
     },
     "metadata": {},
     "output_type": "display_data"
    }
   ],
   "source": [
    "# see the trend between the price category and the city\n",
    "#use a frozen list to store the price categories in the data, as they are unhashable\n",
    "\n",
    "unique_city = set()\n",
    "for index, row in df.iterrows():\n",
    "    unique_city.add(row['city'])\n",
    "\n",
    "print(unique_city)\n",
    "\n",
    "price_categories = FrozenList(df['price_category'])\n",
    "price_categories = price_categories.freeze()\n",
    "#plot the price category against the city\n",
    "plt.figure(figsize=(20,10))\n",
    "sns.countplot(x='city', hue=price_categories, data=df)\n",
    "plt.title('Price Category vs City')\n",
    "plt.show()\n"
   ]
  },
  {
   "cell_type": "code",
   "execution_count": null,
   "metadata": {},
   "outputs": [],
   "source": []
  }
 ],
 "metadata": {
  "kernelspec": {
   "display_name": "base",
   "language": "python",
   "name": "python3"
  },
  "language_info": {
   "codemirror_mode": {
    "name": "ipython",
    "version": 3
   },
   "file_extension": ".py",
   "mimetype": "text/x-python",
   "name": "python",
   "nbconvert_exporter": "python",
   "pygments_lexer": "ipython3",
   "version": "3.11.5"
  }
 },
 "nbformat": 4,
 "nbformat_minor": 2
}
