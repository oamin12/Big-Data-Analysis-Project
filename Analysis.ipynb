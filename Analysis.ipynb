{
 "cells": [
  {
   "cell_type": "markdown",
   "metadata": {},
   "source": [
    "### Read the data set"
   ]
  },
  {
   "cell_type": "code",
   "execution_count": null,
   "metadata": {},
   "outputs": [],
   "source": [
    "#imports\n",
    "import pandas as pd\n",
    "import numpy as np\n",
    "import matplotlib.pyplot as plt\n",
    "import seaborn as sns\n",
    "from frozenlist import FrozenList\n"
   ]
  },
  {
   "cell_type": "code",
   "execution_count": null,
   "metadata": {},
   "outputs": [],
   "source": [
    "#read the data set\n",
    "\n",
    "df = pd.read_csv('Dataset/Airbnb_Data.csv')\n",
    "\n",
    "#display the first 5 rows of the data set\n",
    "print(df.head())\n",
    "\n",
    "#display the last 5 rows of the data set\n",
    "print(df.tail())\n",
    "\n",
    "#display the shape of the data set\n",
    "print(df.shape)\n",
    "\n",
    "#display the columns of the data set\n",
    "print(df.columns)\n",
    "\n",
    "#display the data types of the columns\n",
    "print(df.dtypes)\n",
    "\n",
    "#display the info of the data set\n",
    "print(df.info())\n",
    "\n",
    "#display the summary statistics of the data set\n",
    "print(df.describe())\n",
    "\n"
   ]
  },
  {
   "cell_type": "code",
   "execution_count": null,
   "metadata": {},
   "outputs": [],
   "source": [
    "# for each row, we need to put the ammenities in a list \n",
    "\n",
    "df['amenities'] = df['amenities'].apply(lambda x: x.replace('{','').replace('}','').replace('\"','').split(','))\n",
    "\n",
    "#display the first 5 rows of the data set\n",
    "print(df.head())\n",
    "\n",
    "\n"
   ]
  },
  {
   "cell_type": "code",
   "execution_count": null,
   "metadata": {},
   "outputs": [],
   "source": [
    "#replace the log price column with the price column\n",
    "\n",
    "df['log_price'] = df['log_price'].apply(lambda x: np.exp(x))\n",
    "\n",
    "#rename the log price column to price\n",
    "\n",
    "df.rename(columns={'log_price':'price'}, inplace=True)\n",
    "\n",
    "#export the data set to a new csv file\n",
    "\n",
    "df.to_csv('Dataset/Airbnb_Data1.csv', index=False)\n",
    "\n",
    "\n",
    "#display the first 5 rows of the data set\n",
    "print(df.head())\n",
    "#the newdf is used (after the markdown preprocess) for removing rows with prices greater than 500 ********\n",
    "newdf=df.copy()\n"
   ]
  },
  {
   "cell_type": "code",
   "execution_count": null,
   "metadata": {},
   "outputs": [],
   "source": [
    "#get some statistics of the price column\n",
    "print(df['price'].describe())"
   ]
  },
  {
   "cell_type": "code",
   "execution_count": null,
   "metadata": {},
   "outputs": [],
   "source": [
    "# get a set of all unique amenities\n",
    "amenities = set()\n",
    "for index, row in df.iterrows():\n",
    "    for amenity in row['amenities']:\n",
    "        amenities.add(amenity)\n",
    "\n",
    "#display the unique amenities\n",
    "print(amenities)\n"
   ]
  },
  {
   "cell_type": "code",
   "execution_count": null,
   "metadata": {},
   "outputs": [],
   "source": [
    "amenities.remove('')\n",
    "print(len(amenities), 'amenities length')"
   ]
  },
  {
   "cell_type": "code",
   "execution_count": null,
   "metadata": {},
   "outputs": [],
   "source": [
    "#get unique intger value of the prices in the data set\n",
    "\n",
    "prices = set()\n",
    "for index, row in df.iterrows():\n",
    "    prices.add(int(row['price']))\n",
    "\n",
    "#display the unique prices\n",
    "# 6901257  150.0     Apartment  Entire home/apt   \n",
    "# 1   6304928  169.0     Apartment  Entire home/apt   \n",
    "# 2   7919400  145.0     Apartment  Entire home/apt   \n",
    "# 3  13418779  750.0         House  Entire home/apt   \n",
    "# 4   3808709  115.0     Apartment  Entire home/apt \n"
   ]
  },
  {
   "cell_type": "code",
   "execution_count": null,
   "metadata": {},
   "outputs": [],
   "source": [
    "print(prices)\n",
    "\n",
    "#get the number of unique prices\n",
    "print(len(prices), 'prices length')\n"
   ]
  },
  {
   "cell_type": "code",
   "execution_count": null,
   "metadata": {},
   "outputs": [],
   "source": [
    "#we have 640 unique prices, with minimum price of 1 USD and maximum price of 2000USD\n",
    "#we can categorize the prices into 13 categories\n",
    "#0-50, 51-100, 101-150, 151-200, 201-250, 251-300, 301-350, 351-400, 401-450, 451-500, 501-550, 551-600, 601-650\n",
    "#650-700, 701-750, 751-800, 801-850, 851-900, 901-950, 951-1000, 1001-1050, 1051-1100, 1101-1150, 1151-1200, 1201-1250\n",
    "#1251-1300, 1301-1350, 1351-1400, 1401-1450, 1451-1500, 1501-1550, 1551-1600, 1601-1650, 1651-1700, 1701-1750, 1751-1800\n",
    "#1801-1850, 1851-1900, 1901-1950, 1951-2000\n",
    "\n",
    "stringo = '''0-50, 51-100, 101-150, 151-200, 201-250, 251-300, 301-350, 351-400, 401-450, 451-500, 501-550, 551-600, 601-650, 650-700, 701-750, 751-800, 801-850, 851-900, 901-950, 951-1000, 1001-1050, 1051-1100, 1101-1150, 1151-1200, 1201-1250, 1251-1300, 1301-1350, 1351-1400, 1401-1450, 1451-1500, 1501-1550, 1551-1600, 1601-1650, 1651-1700, 1701-1750, 1751-1800, 1801-1850, 1851-1900, 1901-1950, 1951-2000'''\n",
    "\n",
    "prices = stringo.split(',')\n",
    "print(len(prices), 'prices length')\n",
    "print(prices)\n"
   ]
  },
  {
   "cell_type": "code",
   "execution_count": null,
   "metadata": {},
   "outputs": [],
   "source": [
    "#change the prices to integers where the first value is the lower bound and the second value is the upper bound of the 40 categories\n",
    "prices = [(int(price.split('-')[0]), int(price.split('-')[1])) for price in prices]\n",
    "print(prices)\n",
    "\n"
   ]
  },
  {
   "cell_type": "code",
   "execution_count": null,
   "metadata": {},
   "outputs": [],
   "source": [
    "#add a new column to the data set called price_category\n",
    "#the price category will be the category of the price of the listing\n",
    "\n",
    "df['price_category'] = df['price'].apply(lambda x: [i for i in range(len(prices)) if prices[i][0] <= int(x) <= prices[i][1]][0])\n",
    "\n",
    "#display the first 5 rows of the data set\n",
    "print(df['price_category'])"
   ]
  },
  {
   "cell_type": "code",
   "execution_count": null,
   "metadata": {},
   "outputs": [],
   "source": [
    "# see the trend between the price category and the city\n",
    "#use a frozen list to store the price categories in the data, as they are unhashable\n",
    "\n",
    "unique_city = set()\n",
    "for index, row in df.iterrows():\n",
    "    unique_city.add(row['city'])\n",
    "\n",
    "print(unique_city)\n",
    "\n",
    "price_categories = FrozenList(df['price_category'])\n",
    "price_categories = price_categories.freeze()\n",
    "#plot the price category against the city\n",
    "plt.figure(figsize=(20,10))\n",
    "sns.countplot(x='city', hue=price_categories, data=df)\n",
    "plt.title('Price Category vs City')\n",
    "plt.show()\n",
    "#for each city we can see the distribution of the price categories\n",
    "for city in unique_city:\n",
    "    plt.figure(figsize=(20,10))\n",
    "    sns.countplot(x='city', hue=df['price_category'], data=df[df['city'] == city])\n",
    "    plt.title('Price Category vs City')\n",
    "    plt.show()\n",
    "\n",
    "\n"
   ]
  },
  {
   "cell_type": "code",
   "execution_count": null,
   "metadata": {},
   "outputs": [],
   "source": [
    "plt.figure(figsize=(20,10))\n",
    "sns.countplot(x=df['price_category'])\n",
    "plt.title('Price Category')\n",
    "plt.show()"
   ]
  },
  {
   "cell_type": "code",
   "execution_count": null,
   "metadata": {},
   "outputs": [],
   "source": [
    "#plot the price category against the room type\n",
    "plt.figure(figsize=(20,10))\n",
    "sns.countplot(x='room_type', hue=df['price_category'], data=df)\n",
    "plt.title('Price Category vs Room Type')\n",
    "plt.show()\n",
    "# for each room type we can see the distribution of the price categories\n",
    "for room_type in set(df['room_type']):\n",
    "    plt.figure(figsize=(20,10))\n",
    "    sns.countplot(x='room_type', hue=df['price_category'], data=df[df['room_type'] == room_type])\n",
    "    plt.title('Price Category vs Room Type')\n",
    "    plt.show()"
   ]
  },
  {
   "cell_type": "code",
   "execution_count": null,
   "metadata": {},
   "outputs": [],
   "source": [
    "#plot the price category against the bed type\n",
    "plt.figure(figsize=(20,10))\n",
    "sns.countplot(x='bed_type', data=df)\n",
    "plt.title('Price Category vs Bed Type')\n",
    "plt.show()"
   ]
  },
  {
   "cell_type": "code",
   "execution_count": null,
   "metadata": {},
   "outputs": [],
   "source": [
    "#plot prices \n",
    "plt.figure(figsize=(20,10))\n",
    "sns.histplot(df['price'])\n",
    "plt.title('Price Distribution')\n",
    "plt.show()"
   ]
  },
  {
   "cell_type": "code",
   "execution_count": null,
   "metadata": {},
   "outputs": [],
   "source": [
    "for bed in set(df['bed_type']):\n",
    "    plt.figure(figsize=(20,10))\n",
    "    sns.countplot(x='bed_type',hue=df['price_category'], data=df[df['bed_type'] == bed])\n",
    "    plt.title('Price Category vs Cancellation Policy')\n",
    "    plt.show()"
   ]
  },
  {
   "cell_type": "code",
   "execution_count": null,
   "metadata": {},
   "outputs": [],
   "source": [
    "# plot the price category against the cancellation policy\n",
    "plt.figure(figsize=(20,10))\n",
    "sns.countplot(x='cancellation_policy',hue='price_category', data=df)\n",
    "plt.title('Price Category vs Cancellation Policy')\n",
    "plt.show()"
   ]
  },
  {
   "cell_type": "code",
   "execution_count": null,
   "metadata": {},
   "outputs": [],
   "source": [
    "#get the unique accomodates values\n",
    "accomodates = set()\n",
    "for index, row in df.iterrows():\n",
    "    accomodates.add(row['accommodates'])\n",
    "print(accomodates)"
   ]
  },
  {
   "cell_type": "code",
   "execution_count": null,
   "metadata": {},
   "outputs": [],
   "source": [
    "#plot the price category against the accomodates\n",
    "plt.figure(figsize=(20,10))\n",
    "sns.countplot(x='accommodates',hue=df['price_category'], data=df)\n",
    "plt.title('Price Category vs Accomodates')\n",
    "plt.show()"
   ]
  },
  {
   "cell_type": "code",
   "execution_count": null,
   "metadata": {},
   "outputs": [],
   "source": [
    "#get the unique bathrooms values\n",
    "bathrooms = set()\n",
    "for index, row in df.iterrows():\n",
    "    bathrooms.add(row['bathrooms'])\n",
    "print(bathrooms)"
   ]
  },
  {
   "cell_type": "markdown",
   "metadata": {},
   "source": [
    "# Preprocessing"
   ]
  },
  {
   "cell_type": "code",
   "execution_count": null,
   "metadata": {},
   "outputs": [],
   "source": [
    "#preprocess\n",
    "#drop the following columns\n",
    "newdf.drop('host_has_profile_pic', axis=1, inplace=True)\n",
    "newdf.drop('bed_type', axis=1, inplace=True)\n",
    "newdf.drop('zipcode', axis=1, inplace=True)\n",
    "newdf.drop('longitude', axis=1, inplace=True)\n",
    "newdf.drop('latitude', axis=1, inplace=True)"
   ]
  },
  {
   "cell_type": "code",
   "execution_count": null,
   "metadata": {},
   "outputs": [],
   "source": [
    "newdf = newdf[newdf['price'] <= 500]"
   ]
  },
  {
   "cell_type": "code",
   "execution_count": null,
   "metadata": {},
   "outputs": [],
   "source": [
    "#plot prices \n",
    "plt.figure(figsize=(20,10))\n",
    "sns.histplot(newdf['price'])\n",
    "plt.title('Price Distribution')\n",
    "plt.show()"
   ]
  },
  {
   "cell_type": "code",
   "execution_count": null,
   "metadata": {},
   "outputs": [],
   "source": [
    "newdf['price_category'] = pd.cut(newdf['price'], bins=50, labels=range(1, 51))\n",
    "#0-10 usd , 11-20 usd , ..."
   ]
  },
  {
   "cell_type": "markdown",
   "metadata": {},
   "source": [
    "# Prices categories"
   ]
  },
  {
   "cell_type": "code",
   "execution_count": null,
   "metadata": {},
   "outputs": [],
   "source": [
    "#plot the price category \n",
    "plt.figure(figsize=(20,10))\n",
    "sns.countplot(x='price_category', data=newdf)\n",
    "plt.title('Price Category')\n",
    "plt.show()"
   ]
  },
  {
   "cell_type": "markdown",
   "metadata": {},
   "source": [
    "# price and room type relations"
   ]
  },
  {
   "cell_type": "code",
   "execution_count": null,
   "metadata": {},
   "outputs": [],
   "source": [
    "#plot the price category against the room type\n",
    "plt.figure(figsize=(20,10))\n",
    "sns.countplot(x='room_type', hue=newdf['price_category'], data=newdf)\n",
    "plt.title('Price Category vs Room Type')\n",
    "plt.show()\n",
    "# for each room type we can see the distribution of the price categories\n",
    "for room_type in set(df['room_type']):\n",
    "    plt.figure(figsize=(20,10))\n",
    "    sns.countplot(x='room_type', hue=newdf['price_category'], data=newdf[df['room_type'] == room_type])\n",
    "    plt.title('Price Category vs Room Type')\n",
    "    plt.show()"
   ]
  },
  {
   "cell_type": "markdown",
   "metadata": {},
   "source": [
    "# property type and price relations"
   ]
  },
  {
   "cell_type": "code",
   "execution_count": null,
   "metadata": {},
   "outputs": [],
   "source": [
    "#plot the price category against the room type\n",
    "plt.figure(figsize=(20,10))\n",
    "sns.countplot(x='property_type', hue=newdf['price_category'], data=newdf)\n",
    "plt.title('Price Category vs Room Type')\n",
    "plt.show()\n",
    "# for each room type we can see the distribution of the price categories\n",
    "for property_type in set(newdf['property_type']):\n",
    "    plt.figure(figsize=(20,10))\n",
    "    sns.countplot(x='property_type', hue=newdf['price_category'], data=newdf[newdf['property_type'] == property_type])\n",
    "    plt.title('Price Category vs Room Type')\n",
    "    plt.show()"
   ]
  },
  {
   "cell_type": "markdown",
   "metadata": {},
   "source": [
    "# City and price relations"
   ]
  },
  {
   "cell_type": "code",
   "execution_count": null,
   "metadata": {},
   "outputs": [],
   "source": [
    "#for each city we can see the distribution of the price categories\n",
    "for city in unique_city:\n",
    "    plt.figure(figsize=(20,10))\n",
    "    sns.countplot(x='city', hue=newdf['price_category'], data=newdf[newdf['city'] == city])\n",
    "    plt.title('Price Category vs City')\n",
    "    plt.show()"
   ]
  }
 ],
 "metadata": {
  "kernelspec": {
   "display_name": "base",
   "language": "python",
   "name": "python3"
  },
  "language_info": {
   "codemirror_mode": {
    "name": "ipython",
    "version": 3
   },
   "file_extension": ".py",
   "mimetype": "text/x-python",
   "name": "python",
   "nbconvert_exporter": "python",
   "pygments_lexer": "ipython3",
   "version": "3.11.5"
  }
 },
 "nbformat": 4,
 "nbformat_minor": 2
}
